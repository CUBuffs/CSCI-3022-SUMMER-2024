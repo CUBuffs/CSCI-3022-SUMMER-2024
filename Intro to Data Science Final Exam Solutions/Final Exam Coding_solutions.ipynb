{
 "cells": [
  {
   "cell_type": "markdown",
   "id": "d0afce10-af64-4f67-881d-7995094e8d08",
   "metadata": {},
   "source": [
    "## CSCI 3022\n",
    "### Summer 2024 \n",
    "#### **Final Exam Coding Portion** \n",
    "#### This coding portion is worth a total of **75 points** \n",
    "\n"
   ]
  },
  {
   "cell_type": "code",
   "execution_count": 12,
   "id": "9c7372bd-cdea-4414-a5f2-ee9af22cc428",
   "metadata": {},
   "outputs": [
    {
     "data": {
      "text/html": [
       "<div>\n",
       "<style scoped>\n",
       "    .dataframe tbody tr th:only-of-type {\n",
       "        vertical-align: middle;\n",
       "    }\n",
       "\n",
       "    .dataframe tbody tr th {\n",
       "        vertical-align: top;\n",
       "    }\n",
       "\n",
       "    .dataframe thead th {\n",
       "        text-align: right;\n",
       "    }\n",
       "</style>\n",
       "<table border=\"1\" class=\"dataframe\">\n",
       "  <thead>\n",
       "    <tr style=\"text-align: right;\">\n",
       "      <th></th>\n",
       "      <th>income</th>\n",
       "      <th>years_of_experience</th>\n",
       "      <th>salary</th>\n",
       "    </tr>\n",
       "  </thead>\n",
       "  <tbody>\n",
       "    <tr>\n",
       "      <th>0</th>\n",
       "      <td>55000</td>\n",
       "      <td>1</td>\n",
       "      <td>45000</td>\n",
       "    </tr>\n",
       "    <tr>\n",
       "      <th>1</th>\n",
       "      <td>60000</td>\n",
       "      <td>2</td>\n",
       "      <td>47000</td>\n",
       "    </tr>\n",
       "    <tr>\n",
       "      <th>2</th>\n",
       "      <td>65000</td>\n",
       "      <td>3</td>\n",
       "      <td>49000</td>\n",
       "    </tr>\n",
       "    <tr>\n",
       "      <th>3</th>\n",
       "      <td>70000</td>\n",
       "      <td>4</td>\n",
       "      <td>51000</td>\n",
       "    </tr>\n",
       "    <tr>\n",
       "      <th>4</th>\n",
       "      <td>75000</td>\n",
       "      <td>5</td>\n",
       "      <td>53000</td>\n",
       "    </tr>\n",
       "    <tr>\n",
       "      <th>5</th>\n",
       "      <td>80000</td>\n",
       "      <td>6</td>\n",
       "      <td>55000</td>\n",
       "    </tr>\n",
       "    <tr>\n",
       "      <th>6</th>\n",
       "      <td>85000</td>\n",
       "      <td>7</td>\n",
       "      <td>57000</td>\n",
       "    </tr>\n",
       "    <tr>\n",
       "      <th>7</th>\n",
       "      <td>90000</td>\n",
       "      <td>8</td>\n",
       "      <td>59000</td>\n",
       "    </tr>\n",
       "    <tr>\n",
       "      <th>8</th>\n",
       "      <td>95000</td>\n",
       "      <td>9</td>\n",
       "      <td>61000</td>\n",
       "    </tr>\n",
       "    <tr>\n",
       "      <th>9</th>\n",
       "      <td>100000</td>\n",
       "      <td>10</td>\n",
       "      <td>63000</td>\n",
       "    </tr>\n",
       "  </tbody>\n",
       "</table>\n",
       "</div>"
      ],
      "text/plain": [
       "   income  years_of_experience  salary\n",
       "0   55000                    1   45000\n",
       "1   60000                    2   47000\n",
       "2   65000                    3   49000\n",
       "3   70000                    4   51000\n",
       "4   75000                    5   53000\n",
       "5   80000                    6   55000\n",
       "6   85000                    7   57000\n",
       "7   90000                    8   59000\n",
       "8   95000                    9   61000\n",
       "9  100000                   10   63000"
      ]
     },
     "execution_count": 12,
     "metadata": {},
     "output_type": "execute_result"
    }
   ],
   "source": [
    "import pandas as pd\n",
    "import numpy as np\n",
    "from scipy import stats\n",
    "\n",
    "# Load dataset\n",
    "df = pd.read_csv('Salaries.csv')\n",
    "df"
   ]
  },
  {
   "cell_type": "markdown",
   "id": "7de681f3-cc8a-4f0f-b528-fb47d4d40d40",
   "metadata": {},
   "source": [
    "**Section 1: Understanding Confidence Intervals (25 Points)**"
   ]
  },
  {
   "cell_type": "markdown",
   "id": "02a4d785-b649-431b-88d3-9dd9ca4f8a64",
   "metadata": {},
   "source": [
    "1) Calculate a `95% confidence` interval for the mean of the income variable using the dataset."
   ]
  },
  {
   "cell_type": "code",
   "execution_count": 2,
   "id": "83e24413-bd4b-462f-ad9e-ff0d3be34779",
   "metadata": {},
   "outputs": [
    {
     "name": "stdout",
     "output_type": "stream",
     "text": [
      "95% Confidence Interval: (68117.38675487613, 86882.61324512387)\n"
     ]
    }
   ],
   "source": [
    "# your code here \n",
    "\n",
    "# Compute mean and standard deviation\n",
    "mean_income = df['income'].mean()\n",
    "std_income = df['income'].std()\n",
    "n = len(df['income'])\n",
    "\n",
    "# Compute 95% confidence interval\n",
    "confidence = 0.95\n",
    "z = stats.norm.ppf((1 + confidence) / 2)\n",
    "margin_of_error = z * (std_income / np.sqrt(n))\n",
    "ci_95 = (mean_income - margin_of_error, mean_income + margin_of_error)\n",
    "print(f'95% Confidence Interval: {ci_95}')"
   ]
  },
  {
   "cell_type": "markdown",
   "id": "d537c08a-1af9-49bf-9da0-cd11b7c0c5d9",
   "metadata": {},
   "source": [
    "2) Calculate a `99% confidence` interval for the mean of the income varianble."
   ]
  },
  {
   "cell_type": "code",
   "execution_count": 3,
   "id": "17fed818-5ea1-47fd-bc80-19843b483a42",
   "metadata": {},
   "outputs": [
    {
     "name": "stdout",
     "output_type": "stream",
     "text": [
      "99% Confidence Interval: (65169.15599914577, 89830.84400085424)\n"
     ]
    }
   ],
   "source": [
    "# your code here \n",
    "\n",
    "# Compute 99% confidence interval\n",
    "confidence = 0.99\n",
    "z = stats.norm.ppf((1 + confidence) / 2)\n",
    "margin_of_error = z * (std_income / np.sqrt(n))\n",
    "ci_99 = (mean_income - margin_of_error, mean_income + margin_of_error)\n",
    "print(f'99% Confidence Interval: {ci_99}')\n"
   ]
  },
  {
   "cell_type": "markdown",
   "id": "8b0d4a68-084f-4807-8fda-1c0515d65b61",
   "metadata": {},
   "source": [
    "3) Explain how to use the sample size and standard deviation to determine the width of a confidence interval. Write a Python function that calculates the **width** of a confidence interval given the **sample mean**, **standard deviation** , **sample size** , and **confidence level**."
   ]
  },
  {
   "cell_type": "code",
   "execution_count": 4,
   "id": "f2e03569-a26a-424d-9a87-80c281a464f7",
   "metadata": {},
   "outputs": [
    {
     "name": "stdout",
     "output_type": "stream",
     "text": [
      "Width of 95% CI: 18765.22649024772\n",
      "Width of 99% CI: 24661.688001708462\n"
     ]
    }
   ],
   "source": [
    "# your code here + explanation \n",
    "\n",
    "def confidence_interval_width(sample_mean, std_dev, sample_size, confidence_level):\n",
    "    z = stats.norm.ppf((1 + confidence_level) / 2)\n",
    "    margin_of_error = z * (std_dev / np.sqrt(sample_size))\n",
    "    return 2 * margin_of_error\n",
    "\n",
    "# Example usage\n",
    "width_95 = confidence_interval_width(mean_income, std_income, n, 0.95)\n",
    "width_99 = confidence_interval_width(mean_income, std_income, n, 0.99)\n",
    "print(f'Width of 95% CI: {width_95}')\n",
    "print(f'Width of 99% CI: {width_99}')\n"
   ]
  },
  {
   "cell_type": "markdown",
   "id": "685c4cb9-c17b-4df6-b3a2-d78a5f5bf4e3",
   "metadata": {},
   "source": [
    "4) Compute and interpret the confidence interval for the mean of the salary variable at a `95% confidence level`."
   ]
  },
  {
   "cell_type": "code",
   "execution_count": 5,
   "id": "bb6d0e2e-69a5-492f-9e3a-77444821d270",
   "metadata": {},
   "outputs": [
    {
     "name": "stdout",
     "output_type": "stream",
     "text": [
      "95% Confidence Interval for Salary: (50246.95470195045, 57753.04529804955)\n"
     ]
    }
   ],
   "source": [
    "# your code here + explanation \n",
    "\n",
    "# Compute 95% confidence interval for salary\n",
    "mean_salary = df['salary'].mean()\n",
    "std_salary = df['salary'].std()\n",
    "n_salary = len(df['salary'])\n",
    "z = stats.norm.ppf((1 + 0.95) / 2)\n",
    "margin_of_error_salary = z * (std_salary / np.sqrt(n_salary))\n",
    "ci_salary = (mean_salary - margin_of_error_salary, mean_salary + margin_of_error_salary)\n",
    "print(f'95% Confidence Interval for Salary: {ci_salary}')\n",
    "\n",
    "\n"
   ]
  },
  {
   "cell_type": "markdown",
   "id": "c8d28d88-32af-4f4b-b600-9fbe1797f731",
   "metadata": {},
   "source": [
    "5. Using Python, compare the width of the confidence intervals obtained in questions 1 and 2 and discuss the differences."
   ]
  },
  {
   "cell_type": "code",
   "execution_count": 6,
   "id": "4b750bb4-2b0f-4dec-9ac3-bbc041122c92",
   "metadata": {},
   "outputs": [
    {
     "name": "stdout",
     "output_type": "stream",
     "text": [
      "Width of 95% CI for income: 18765.22649024772\n",
      "Width of 99% CI for income: 24661.688001708462\n"
     ]
    }
   ],
   "source": [
    "# your code here + explanation \n",
    "\n",
    "# Compare width of confidence intervals\n",
    "print(f'Width of 95% CI for income: {width_95}')\n",
    "print(f'Width of 99% CI for income: {width_99}')\n"
   ]
  },
  {
   "cell_type": "markdown",
   "id": "c8ba9eee-80f2-4088-9461-66984a294881",
   "metadata": {},
   "source": [
    "**Section 2: Bootstrap Confidence Intervals (25 Points)**"
   ]
  },
  {
   "cell_type": "markdown",
   "id": "4139ada3-b504-4a5d-a168-7ebd6618e508",
   "metadata": {},
   "source": [
    "6) Write a Python function to perform bootstrap resampling and calculate the `95% confidence interval` for the mean of the income variable."
   ]
  },
  {
   "cell_type": "code",
   "execution_count": 15,
   "id": "4f64fd52-6ab6-451a-90f3-f66cdb1ed562",
   "metadata": {},
   "outputs": [
    {
     "name": "stdout",
     "output_type": "stream",
     "text": [
      "Bootstrap 95% Confidence Interval for Income: (69500.0, 69595.0)\n"
     ]
    }
   ],
   "source": [
    "# your code here \n",
    "\n",
    "def bootstrap_ci(data, num_resamples=1000, confidence=0.95):\n",
    "    resamples = np.random.choice(data, (num_resamples, len(data)), replace=True)\n",
    "    means = np.mean(resamples, axis=1)\n",
    "    lower = np.percentile(means, (1-confidence)/2 * 100)\n",
    "    upper = confidence * 100 + lower\n",
    "    return lower, upper\n",
    "\n",
    "# Compute bootstrap confidence interval for income\n",
    "income_data = df['income'].values\n",
    "ci_income_bootstrap_95 = bootstrap_ci(income_data)\n",
    "print(f'Bootstrap 95% Confidence Interval for Income: {ci_income_bootstrap_95}')\n"
   ]
  },
  {
   "cell_type": "markdown",
   "id": "2c18cff1-f0bc-417b-935b-8132893ca3c8",
   "metadata": {},
   "source": [
    "7) Using the bootstrap method, estimate the `99% confidence interval` for the mean of the income variable."
   ]
  },
  {
   "cell_type": "code",
   "execution_count": 16,
   "id": "65421fe4-d54b-48b7-9935-a77118242000",
   "metadata": {},
   "outputs": [
    {
     "name": "stdout",
     "output_type": "stream",
     "text": [
      "Bootstrap 99% Confidence Interval for Income: (65997.5, 66096.5)\n"
     ]
    }
   ],
   "source": [
    "# your code here \n",
    "\n",
    "# Compute bootstrap confidence interval for income with 99% confidence\n",
    "ci_income_bootstrap_99 = bootstrap_ci(income_data, confidence=0.99)\n",
    "print(f'Bootstrap 99% Confidence Interval for Income: {ci_income_bootstrap_99}')"
   ]
  },
  {
   "cell_type": "markdown",
   "id": "8e6e49f0-ebf1-45a1-8c7a-b182fedfefdb",
   "metadata": {},
   "source": [
    "8) Explain the advantages and disadvantages of bootstrap methods compared to traditional parametric methods."
   ]
  },
  {
   "cell_type": "code",
   "execution_count": 12,
   "id": "6e2d2130-d419-43ff-ab7d-9f3aa1ef8047",
   "metadata": {},
   "outputs": [
    {
     "data": {
      "text/plain": [
       "'\\nAdvantages of bootstrap methods include flexibility and applicability to various data distributions. \\nDisadvantages include higher computational cost and potential inaccuracies with small sample sizes.\\n\\n'"
      ]
     },
     "execution_count": 12,
     "metadata": {},
     "output_type": "execute_result"
    }
   ],
   "source": [
    "# your discussion here\n",
    "\n",
    "'''\n",
    "Advantages of bootstrap methods include flexibility and applicability to various data distributions. \n",
    "Disadvantages include higher computational cost and potential inaccuracies with small sample sizes.\n",
    "\n",
    "'''"
   ]
  },
  {
   "cell_type": "markdown",
   "id": "687fb59d-f95d-44c0-ab41-b2e97bd1c940",
   "metadata": {},
   "source": [
    "9) Write Python code to perform a bootstrap resampling with 1000 iterations and compute the standard error of the mean for the income variable"
   ]
  },
  {
   "cell_type": "code",
   "execution_count": 17,
   "id": "0e471034-c495-4532-b588-06d8d6061014",
   "metadata": {},
   "outputs": [
    {
     "name": "stdout",
     "output_type": "stream",
     "text": [
      "Standard Error of the Mean (Bootstrap): 4592.741555977214\n"
     ]
    }
   ],
   "source": [
    "# your code here\n",
    "\n",
    "def bootstrap_standard_error(data, num_resamples=1000):\n",
    "    resamples = np.random.choice(data, (num_resamples, len(data)), replace=True)\n",
    "    means = np.mean(resamples, axis=1)\n",
    "    return np.std(means)\n",
    "\n",
    "# Compute standard error of the mean for income\n",
    "se_income_bootstrap = bootstrap_standard_error(income_data)\n",
    "print(f'Standard Error of the Mean (Bootstrap): {se_income_bootstrap}')"
   ]
  },
  {
   "cell_type": "markdown",
   "id": "22db4d98-3dab-4103-adae-3e3323a0f148",
   "metadata": {},
   "source": [
    "10) Compare the bootstrap confidence interval from question 6 with the regular confidence interval from section 1. Discuss the similarities and differences."
   ]
  },
  {
   "cell_type": "code",
   "execution_count": 8,
   "id": "f2c18646-aeee-4561-b3c1-bd16a447c1a8",
   "metadata": {},
   "outputs": [],
   "source": [
    "# your discussion here \n",
    "\n",
    "# open ended "
   ]
  },
  {
   "cell_type": "markdown",
   "id": "5015fa13-5c59-4603-a183-94042432023a",
   "metadata": {},
   "source": [
    "**Section 3: Simple Linear Regression (25 Points)**"
   ]
  },
  {
   "cell_type": "markdown",
   "id": "5fc5a6c1-75a6-4caf-bb8d-6985a175aa64",
   "metadata": {},
   "source": [
    "11) Write Python code to perform a simple linear regression with years_of_experience as the predictor and salary as the response variable. Report the regression coefficients."
   ]
  },
  {
   "cell_type": "code",
   "execution_count": 9,
   "id": "bfbc25d3-2af3-418a-a10f-e63d45913e8a",
   "metadata": {},
   "outputs": [
    {
     "name": "stdout",
     "output_type": "stream",
     "text": [
      "                            OLS Regression Results                            \n",
      "==============================================================================\n",
      "Dep. Variable:                 salary   R-squared:                       1.000\n",
      "Model:                            OLS   Adj. R-squared:                  1.000\n",
      "Method:                 Least Squares   F-statistic:                 1.385e+30\n",
      "Date:                Mon, 12 Aug 2024   Prob (F-statistic):          3.04e-118\n",
      "Time:                        17:31:37   Log-Likelihood:                 235.87\n",
      "No. Observations:                  10   AIC:                            -467.7\n",
      "Df Residuals:                       8   BIC:                            -467.1\n",
      "Df Model:                           1                                         \n",
      "Covariance Type:            nonrobust                                         \n",
      "=======================================================================================\n",
      "                          coef    std err          t      P>|t|      [0.025      0.975]\n",
      "---------------------------------------------------------------------------------------\n",
      "const                  4.3e+04   1.05e-11   4.08e+15      0.000     4.3e+04     4.3e+04\n",
      "years_of_experience  2000.0000    1.7e-12   1.18e+15      0.000    2000.000    2000.000\n",
      "==============================================================================\n",
      "Omnibus:                        1.733   Durbin-Watson:                   0.139\n",
      "Prob(Omnibus):                  0.421   Jarque-Bera (JB):                0.790\n",
      "Skew:                          -0.111   Prob(JB):                        0.674\n",
      "Kurtosis:                       1.641   Cond. No.                         13.7\n",
      "==============================================================================\n",
      "\n",
      "Notes:\n",
      "[1] Standard Errors assume that the covariance matrix of the errors is correctly specified.\n"
     ]
    },
    {
     "name": "stderr",
     "output_type": "stream",
     "text": [
      "/opt/conda/lib/python3.10/site-packages/scipy/stats/_stats_py.py:1736: UserWarning: kurtosistest only valid for n>=20 ... continuing anyway, n=10\n",
      "  warnings.warn(\"kurtosistest only valid for n>=20 ... continuing \"\n"
     ]
    }
   ],
   "source": [
    "# your code here \n",
    "\n",
    "import statsmodels.api as sm\n",
    "\n",
    "# Perform simple linear regression\n",
    "X = df['years_of_experience']\n",
    "y = df['salary']\n",
    "X = sm.add_constant(X)\n",
    "model = sm.OLS(y, X).fit()\n",
    "print(model.summary())\n"
   ]
  },
  {
   "cell_type": "markdown",
   "id": "07f928c6-52cc-40a7-b629-e07052740956",
   "metadata": {},
   "source": [
    "12) Using the regression model from question 11, predict the salary for someone with 10 years of experience."
   ]
  },
  {
   "cell_type": "code",
   "execution_count": 10,
   "id": "d2e9647b-cbe5-4753-a746-fb5d01a94fd8",
   "metadata": {},
   "outputs": [
    {
     "name": "stdout",
     "output_type": "stream",
     "text": [
      "Predicted Salary for 10 Years of Experience: 63000.000000000015\n"
     ]
    }
   ],
   "source": [
    "# your code here \n",
    "\n",
    "\n",
    "# Predict salary for someone with 10 years of experience\n",
    "experience = 10\n",
    "prediction = model.predict([1, experience])\n",
    "print(f'Predicted Salary for 10 Years of Experience: {prediction[0]}')\n"
   ]
  },
  {
   "cell_type": "markdown",
   "id": "51b3a4dc-fd9a-43b5-98b7-90c62f70e908",
   "metadata": {},
   "source": [
    "13) Calculate and interpret the R-squared value for the regression model"
   ]
  },
  {
   "cell_type": "code",
   "execution_count": 11,
   "id": "49ba246a-692f-4144-9596-0e65633158bd",
   "metadata": {},
   "outputs": [
    {
     "name": "stdout",
     "output_type": "stream",
     "text": [
      "R-squared Value: 1.0\n"
     ]
    }
   ],
   "source": [
    "# your code here\n",
    "\n",
    "# Calculate R-squared value\n",
    "r_squared = model.rsquared\n",
    "print(f'R-squared Value: {r_squared}')\n"
   ]
  },
  {
   "cell_type": "markdown",
   "id": "2b05cda4-72be-4bc9-9585-a180bfd1b7e1",
   "metadata": {},
   "source": [
    "14) Plot the regression line along with the data points for years_of_experience and salary. Include appropriate labels and legends"
   ]
  },
  {
   "cell_type": "code",
   "execution_count": 17,
   "id": "ad37b384-52c1-4a51-8960-bc0771c1fee3",
   "metadata": {},
   "outputs": [
    {
     "data": {
      "image/png": "[encoded data removed]",
      "text/plain": [
       "<Figure size 640x480 with 1 Axes>"
      ]
     },
     "metadata": {},
     "output_type": "display_data"
    }
   ],
   "source": [
    "# your code here \n",
    "\n",
    "import matplotlib.pyplot as plt\n",
    "\n",
    "# Plot data points and regression line\n",
    "plt.scatter(df['years_of_experience'], df['salary'], label='Data Points')\n",
    "plt.plot(df['years_of_experience'], model.predict(X), color='red', label='Regression Line')\n",
    "\n",
    "plt.xlabel('Years of Experience')\n",
    "plt.ylabel('Salary')\n",
    "plt.legend()\n",
    "plt.show()\n"
   ]
  },
  {
   "cell_type": "markdown",
   "id": "f874cf07-7948-4fee-a6b4-e6211f63178e",
   "metadata": {},
   "source": [
    "15) Discuss how the regression coefficients would change if you included additional predictor variables in the model."
   ]
  },
  {
   "cell_type": "markdown",
   "id": "67f47932-1cba-4740-8133-dfa71f9f6cc4",
   "metadata": {},
   "source": [
    "##### Your discussion here\n",
    "\n",
    "Adding more predictor variables can change the coefficients of existing predictors, potentially improving the model's explanatory power and fit. Discuss how including additional predictors might impact the model’s performance."
   ]
  },
  {
   "cell_type": "markdown",
   "id": "93bbf888-6eaa-4731-921c-a5b9648d2b90",
   "metadata": {},
   "source": [
    "                                           **END OF EXAM** SUBMIT AS AN HTML IN CANVAS! "
   ]
  }
 ],
 "metadata": {
  "kernelspec": {
   "display_name": "Python 3 (ipykernel)",
   "language": "python",
   "name": "python3"
  },
  "language_info": {
   "codemirror_mode": {
    "name": "ipython",
    "version": 3
   },
   "file_extension": ".py",
   "mimetype": "text/x-python",
   "name": "python",
   "nbconvert_exporter": "python",
   "pygments_lexer": "ipython3",
   "version": "3.10.8"
  }
 },
 "nbformat": 4,
 "nbformat_minor": 5
}
